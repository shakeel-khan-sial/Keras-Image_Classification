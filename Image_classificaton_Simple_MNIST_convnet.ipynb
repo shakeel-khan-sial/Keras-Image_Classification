{
  "nbformat": 4,
  "nbformat_minor": 0,
  "metadata": {
    "colab": {
      "name": "Image_classificaton_Simple_MNIST_convnet.ipynb",
      "provenance": []
    },
    "kernelspec": {
      "name": "python3",
      "display_name": "Python 3"
    },
    "language_info": {
      "name": "python"
    },
    "accelerator": "GPU",
    "gpuClass": "standard"
  },
  "cells": [
    {
      "cell_type": "markdown",
      "source": [
        "# Simple MNISt convnet"
      ],
      "metadata": {
        "id": "EJv-M1YXvl67"
      }
    },
    {
      "cell_type": "code",
      "execution_count": 19,
      "metadata": {
        "id": "f0jmNcWrvSV4"
      },
      "outputs": [],
      "source": [
        "import numpy as np\n",
        "import tensorflow as tf\n",
        "from tensorflow import keras\n",
        "from tensorflow.keras import layers"
      ]
    },
    {
      "cell_type": "markdown",
      "source": [
        "# Prepare the data"
      ],
      "metadata": {
        "id": "O-IHf73_wJ9q"
      }
    },
    {
      "cell_type": "code",
      "source": [
        "num_classes = 10\n",
        "input_shape = (28,28,1)\n",
        "\n",
        "# the data, split between train and test sets\n",
        "(x_train, y_train),(x_test, y_test) = keras.datasets.mnist.load_data()"
      ],
      "metadata": {
        "id": "Rig8L4lLzY7N"
      },
      "execution_count": 38,
      "outputs": []
    },
    {
      "cell_type": "code",
      "source": [
        "# scaling images to [0-] range\n",
        "x_train = x_train.astype(\"float32\") / 255\n",
        "x_test = x_test.astype(\"float32\") / 255\n",
        "\n",
        "# make sure images have shape (28,28,1)\n",
        "x_train = np.expand_dims(x_train, -1)\n",
        "x_test = np.expand_dims(x_test, -1)\n",
        "print(\"x_train shape:\", x_train.shape)\n",
        "print(x_train.shape[0],\"train samples\")\n",
        "print(x_test.shape[0],\"test samples\")\n"
      ],
      "metadata": {
        "colab": {
          "base_uri": "https://localhost:8080/"
        },
        "id": "5ZoA_mNs1E7B",
        "outputId": "741f7fdf-ad89-43d0-be73-cdc894852700"
      },
      "execution_count": 39,
      "outputs": [
        {
          "output_type": "stream",
          "name": "stdout",
          "text": [
            "x_train shape: (60000, 28, 28, 1)\n",
            "60000 train samples\n",
            "10000 test samples\n"
          ]
        }
      ]
    },
    {
      "cell_type": "code",
      "source": [
        "# convert class vectors to binary class matrics\n",
        "y_train = keras.utils.to_categorical(y_train,num_classes)\n",
        "y_test = keras.utils.to_categorical(y_test, num_classes)"
      ],
      "metadata": {
        "id": "Shv9zLSB4B25"
      },
      "execution_count": 40,
      "outputs": []
    },
    {
      "cell_type": "markdown",
      "source": [
        "# Building the Model"
      ],
      "metadata": {
        "id": "zdyBDIeT5ZLP"
      }
    },
    {
      "cell_type": "code",
      "source": [
        "model = keras.Sequential(\n",
        "    [\n",
        "     keras.Input(shape= input_shape),\n",
        "     layers.Conv2D(32,kernel_size=(3,3), activation=\"relu\"),\n",
        "     layers.MaxPool2D(pool_size=(2,2)),\n",
        "     layers.Conv2D(64,(3,3),activation=\"relu\"),\n",
        "     layers.MaxPool2D((2,2)),\n",
        "     layers.Flatten(),\n",
        "     layers.Dropout(0.5),\n",
        "     layers.Dense(num_clases, activation=\"softmax\"),\n",
        "    ]\n",
        ")\n",
        "model.summary()"
      ],
      "metadata": {
        "colab": {
          "base_uri": "https://localhost:8080/"
        },
        "id": "3RF5csOZ4o5S",
        "outputId": "3208a9f2-fab0-4ec7-c972-02d08d046f55"
      },
      "execution_count": 41,
      "outputs": [
        {
          "output_type": "stream",
          "name": "stdout",
          "text": [
            "Model: \"sequential_1\"\n",
            "_________________________________________________________________\n",
            " Layer (type)                Output Shape              Param #   \n",
            "=================================================================\n",
            " conv2d_2 (Conv2D)           (None, 26, 26, 32)        320       \n",
            "                                                                 \n",
            " max_pooling2d_2 (MaxPooling  (None, 13, 13, 32)       0         \n",
            " 2D)                                                             \n",
            "                                                                 \n",
            " conv2d_3 (Conv2D)           (None, 11, 11, 64)        18496     \n",
            "                                                                 \n",
            " max_pooling2d_3 (MaxPooling  (None, 5, 5, 64)         0         \n",
            " 2D)                                                             \n",
            "                                                                 \n",
            " flatten_1 (Flatten)         (None, 1600)              0         \n",
            "                                                                 \n",
            " dropout_1 (Dropout)         (None, 1600)              0         \n",
            "                                                                 \n",
            " dense_1 (Dense)             (None, 10)                16010     \n",
            "                                                                 \n",
            "=================================================================\n",
            "Total params: 34,826\n",
            "Trainable params: 34,826\n",
            "Non-trainable params: 0\n",
            "_________________________________________________________________\n"
          ]
        }
      ]
    },
    {
      "cell_type": "markdown",
      "source": [
        "# Train the model"
      ],
      "metadata": {
        "id": "Y-kM1wwW7VLZ"
      }
    },
    {
      "cell_type": "code",
      "source": [
        "batch_size = 128\n",
        "epochs = 50\n",
        "model.compile(loss = \"categorical_crossentropy\", optimizer = 'adam', metrics = [\"accuracy\"])\n"
      ],
      "metadata": {
        "id": "Dq8qXvNE7U7y"
      },
      "execution_count": 46,
      "outputs": []
    },
    {
      "cell_type": "code",
      "source": [
        "from tensorflow.python.ops.gen_batch_ops import batch\n",
        "model.fit(x_train, y_train, batch_size = batch_size, epochs = epochs, validation_split=0.1)"
      ],
      "metadata": {
        "colab": {
          "base_uri": "https://localhost:8080/"
        },
        "id": "POMb3_dR7OXc",
        "outputId": "99b13401-5cd8-45e4-93d4-7d21382a34a9"
      },
      "execution_count": 47,
      "outputs": [
        {
          "output_type": "stream",
          "name": "stdout",
          "text": [
            "Epoch 1/50\n",
            "422/422 [==============================] - 14s 6ms/step - loss: 0.3591 - accuracy: 0.8925 - val_loss: 0.0847 - val_accuracy: 0.9778\n",
            "Epoch 2/50\n",
            "422/422 [==============================] - 2s 5ms/step - loss: 0.1130 - accuracy: 0.9661 - val_loss: 0.0547 - val_accuracy: 0.9867\n",
            "Epoch 3/50\n",
            "422/422 [==============================] - 2s 5ms/step - loss: 0.0847 - accuracy: 0.9746 - val_loss: 0.0491 - val_accuracy: 0.9877\n",
            "Epoch 4/50\n",
            "422/422 [==============================] - 2s 5ms/step - loss: 0.0696 - accuracy: 0.9787 - val_loss: 0.0417 - val_accuracy: 0.9893\n",
            "Epoch 5/50\n",
            "422/422 [==============================] - 2s 5ms/step - loss: 0.0621 - accuracy: 0.9807 - val_loss: 0.0385 - val_accuracy: 0.9902\n",
            "Epoch 6/50\n",
            "422/422 [==============================] - 2s 5ms/step - loss: 0.0563 - accuracy: 0.9828 - val_loss: 0.0374 - val_accuracy: 0.9905\n",
            "Epoch 7/50\n",
            "422/422 [==============================] - 2s 5ms/step - loss: 0.0517 - accuracy: 0.9836 - val_loss: 0.0338 - val_accuracy: 0.9910\n",
            "Epoch 8/50\n",
            "422/422 [==============================] - 2s 5ms/step - loss: 0.0475 - accuracy: 0.9853 - val_loss: 0.0308 - val_accuracy: 0.9912\n",
            "Epoch 9/50\n",
            "422/422 [==============================] - 2s 5ms/step - loss: 0.0445 - accuracy: 0.9854 - val_loss: 0.0322 - val_accuracy: 0.9925\n",
            "Epoch 10/50\n",
            "422/422 [==============================] - 2s 5ms/step - loss: 0.0413 - accuracy: 0.9871 - val_loss: 0.0312 - val_accuracy: 0.9913\n",
            "Epoch 11/50\n",
            "422/422 [==============================] - 2s 5ms/step - loss: 0.0382 - accuracy: 0.9877 - val_loss: 0.0333 - val_accuracy: 0.9905\n",
            "Epoch 12/50\n",
            "422/422 [==============================] - 2s 5ms/step - loss: 0.0385 - accuracy: 0.9875 - val_loss: 0.0290 - val_accuracy: 0.9923\n",
            "Epoch 13/50\n",
            "422/422 [==============================] - 2s 5ms/step - loss: 0.0353 - accuracy: 0.9886 - val_loss: 0.0288 - val_accuracy: 0.9923\n",
            "Epoch 14/50\n",
            "422/422 [==============================] - 2s 5ms/step - loss: 0.0345 - accuracy: 0.9891 - val_loss: 0.0316 - val_accuracy: 0.9918\n",
            "Epoch 15/50\n",
            "422/422 [==============================] - 2s 5ms/step - loss: 0.0323 - accuracy: 0.9896 - val_loss: 0.0293 - val_accuracy: 0.9925\n",
            "Epoch 16/50\n",
            "422/422 [==============================] - 2s 5ms/step - loss: 0.0304 - accuracy: 0.9904 - val_loss: 0.0291 - val_accuracy: 0.9928\n",
            "Epoch 17/50\n",
            "422/422 [==============================] - 2s 5ms/step - loss: 0.0298 - accuracy: 0.9900 - val_loss: 0.0324 - val_accuracy: 0.9913\n",
            "Epoch 18/50\n",
            "422/422 [==============================] - 2s 5ms/step - loss: 0.0301 - accuracy: 0.9906 - val_loss: 0.0287 - val_accuracy: 0.9917\n",
            "Epoch 19/50\n",
            "422/422 [==============================] - 2s 5ms/step - loss: 0.0280 - accuracy: 0.9908 - val_loss: 0.0286 - val_accuracy: 0.9922\n",
            "Epoch 20/50\n",
            "422/422 [==============================] - 2s 5ms/step - loss: 0.0272 - accuracy: 0.9914 - val_loss: 0.0285 - val_accuracy: 0.9925\n",
            "Epoch 21/50\n",
            "422/422 [==============================] - 2s 5ms/step - loss: 0.0262 - accuracy: 0.9915 - val_loss: 0.0288 - val_accuracy: 0.9923\n",
            "Epoch 22/50\n",
            "422/422 [==============================] - 2s 5ms/step - loss: 0.0246 - accuracy: 0.9921 - val_loss: 0.0287 - val_accuracy: 0.9923\n",
            "Epoch 23/50\n",
            "422/422 [==============================] - 2s 5ms/step - loss: 0.0245 - accuracy: 0.9917 - val_loss: 0.0273 - val_accuracy: 0.9935\n",
            "Epoch 24/50\n",
            "422/422 [==============================] - 2s 5ms/step - loss: 0.0234 - accuracy: 0.9923 - val_loss: 0.0286 - val_accuracy: 0.9935\n",
            "Epoch 25/50\n",
            "422/422 [==============================] - 2s 5ms/step - loss: 0.0239 - accuracy: 0.9921 - val_loss: 0.0296 - val_accuracy: 0.9925\n",
            "Epoch 26/50\n",
            "422/422 [==============================] - 2s 5ms/step - loss: 0.0236 - accuracy: 0.9921 - val_loss: 0.0285 - val_accuracy: 0.9917\n",
            "Epoch 27/50\n",
            "422/422 [==============================] - 2s 5ms/step - loss: 0.0234 - accuracy: 0.9923 - val_loss: 0.0301 - val_accuracy: 0.9920\n",
            "Epoch 28/50\n",
            "422/422 [==============================] - 2s 6ms/step - loss: 0.0217 - accuracy: 0.9930 - val_loss: 0.0262 - val_accuracy: 0.9932\n",
            "Epoch 29/50\n",
            "422/422 [==============================] - 2s 5ms/step - loss: 0.0217 - accuracy: 0.9926 - val_loss: 0.0291 - val_accuracy: 0.9932\n",
            "Epoch 30/50\n",
            "422/422 [==============================] - 2s 5ms/step - loss: 0.0202 - accuracy: 0.9934 - val_loss: 0.0288 - val_accuracy: 0.9932\n",
            "Epoch 31/50\n",
            "422/422 [==============================] - 2s 5ms/step - loss: 0.0208 - accuracy: 0.9933 - val_loss: 0.0318 - val_accuracy: 0.9920\n",
            "Epoch 32/50\n",
            "422/422 [==============================] - 2s 5ms/step - loss: 0.0202 - accuracy: 0.9931 - val_loss: 0.0284 - val_accuracy: 0.9927\n",
            "Epoch 33/50\n",
            "422/422 [==============================] - 2s 5ms/step - loss: 0.0198 - accuracy: 0.9932 - val_loss: 0.0307 - val_accuracy: 0.9923\n",
            "Epoch 34/50\n",
            "422/422 [==============================] - 2s 5ms/step - loss: 0.0195 - accuracy: 0.9932 - val_loss: 0.0292 - val_accuracy: 0.9930\n",
            "Epoch 35/50\n",
            "422/422 [==============================] - 2s 5ms/step - loss: 0.0185 - accuracy: 0.9936 - val_loss: 0.0291 - val_accuracy: 0.9922\n",
            "Epoch 36/50\n",
            "422/422 [==============================] - 2s 5ms/step - loss: 0.0176 - accuracy: 0.9938 - val_loss: 0.0296 - val_accuracy: 0.9927\n",
            "Epoch 37/50\n",
            "422/422 [==============================] - 2s 5ms/step - loss: 0.0180 - accuracy: 0.9936 - val_loss: 0.0276 - val_accuracy: 0.9935\n",
            "Epoch 38/50\n",
            "422/422 [==============================] - 2s 5ms/step - loss: 0.0184 - accuracy: 0.9935 - val_loss: 0.0278 - val_accuracy: 0.9935\n",
            "Epoch 39/50\n",
            "422/422 [==============================] - 2s 5ms/step - loss: 0.0175 - accuracy: 0.9939 - val_loss: 0.0294 - val_accuracy: 0.9922\n",
            "Epoch 40/50\n",
            "422/422 [==============================] - 2s 5ms/step - loss: 0.0174 - accuracy: 0.9940 - val_loss: 0.0321 - val_accuracy: 0.9930\n",
            "Epoch 41/50\n",
            "422/422 [==============================] - 2s 5ms/step - loss: 0.0174 - accuracy: 0.9942 - val_loss: 0.0307 - val_accuracy: 0.9920\n",
            "Epoch 42/50\n",
            "422/422 [==============================] - 2s 5ms/step - loss: 0.0150 - accuracy: 0.9948 - val_loss: 0.0299 - val_accuracy: 0.9923\n",
            "Epoch 43/50\n",
            "422/422 [==============================] - 2s 5ms/step - loss: 0.0167 - accuracy: 0.9947 - val_loss: 0.0296 - val_accuracy: 0.9927\n",
            "Epoch 44/50\n",
            "422/422 [==============================] - 2s 5ms/step - loss: 0.0161 - accuracy: 0.9944 - val_loss: 0.0303 - val_accuracy: 0.9920\n",
            "Epoch 45/50\n",
            "422/422 [==============================] - 2s 5ms/step - loss: 0.0161 - accuracy: 0.9945 - val_loss: 0.0311 - val_accuracy: 0.9927\n",
            "Epoch 46/50\n",
            "422/422 [==============================] - 2s 5ms/step - loss: 0.0156 - accuracy: 0.9948 - val_loss: 0.0303 - val_accuracy: 0.9930\n",
            "Epoch 47/50\n",
            "422/422 [==============================] - 2s 5ms/step - loss: 0.0158 - accuracy: 0.9948 - val_loss: 0.0329 - val_accuracy: 0.9928\n",
            "Epoch 48/50\n",
            "422/422 [==============================] - 2s 5ms/step - loss: 0.0147 - accuracy: 0.9951 - val_loss: 0.0327 - val_accuracy: 0.9930\n",
            "Epoch 49/50\n",
            "422/422 [==============================] - 2s 5ms/step - loss: 0.0156 - accuracy: 0.9944 - val_loss: 0.0293 - val_accuracy: 0.9927\n",
            "Epoch 50/50\n",
            "422/422 [==============================] - 2s 5ms/step - loss: 0.0145 - accuracy: 0.9951 - val_loss: 0.0316 - val_accuracy: 0.9925\n"
          ]
        },
        {
          "output_type": "execute_result",
          "data": {
            "text/plain": [
              "<keras.callbacks.History at 0x7f03984c9990>"
            ]
          },
          "metadata": {},
          "execution_count": 47
        }
      ]
    },
    {
      "cell_type": "markdown",
      "source": [
        "# Evaluate the trained Model"
      ],
      "metadata": {
        "id": "YFCCf9ql9chF"
      }
    },
    {
      "cell_type": "code",
      "source": [
        "score = model.evaluate(x_test,y_test, verbose = 0)\n",
        "print(\"Test loss: \", score[0])\n",
        "print(\"Test accuracy: \", score[1])"
      ],
      "metadata": {
        "colab": {
          "base_uri": "https://localhost:8080/"
        },
        "id": "baFaWxcK9bKQ",
        "outputId": "b24d74b7-1b21-4eea-fd73-f6e7bd4ba225"
      },
      "execution_count": 48,
      "outputs": [
        {
          "output_type": "stream",
          "name": "stdout",
          "text": [
            "Test loss:  0.022934578359127045\n",
            "Test accuracy:  0.9939000010490417\n"
          ]
        }
      ]
    }
  ]
}